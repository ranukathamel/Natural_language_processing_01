{
 "cells": [
  {
   "cell_type": "markdown",
   "id": "a84bfbcd",
   "metadata": {},
   "source": [
    "# Count Vectorizer Basic"
   ]
  },
  {
   "cell_type": "code",
   "execution_count": 143,
   "id": "6c45ba8e",
   "metadata": {},
   "outputs": [],
   "source": [
    "# Import necessary libraries\n",
    "import numpy as np\n",
    "import pandas as pd\n",
    "from sklearn.feature_extraction.text import CountVectorizer\n",
    "from sklearn.naive_bayes import MultinomialNB\n",
    "from sklearn.model_selection import train_test_split"
   ]
  },
  {
   "cell_type": "code",
   "execution_count": 144,
   "id": "589d2b35",
   "metadata": {},
   "outputs": [],
   "source": [
    "import nltk \n",
    "from nltk.tokenize import word_tokenize\n",
    "from nltk.stem import WordNetLemmatizer, PorterStemmer\n",
    "from nltk.corpus import wordnet"
   ]
  },
  {
   "cell_type": "code",
   "execution_count": 145,
   "id": "62b027c7",
   "metadata": {},
   "outputs": [
    {
     "name": "stderr",
     "output_type": "stream",
     "text": [
      "[nltk_data] Downloading package punkt to C:\\Users\\EYE\n",
      "[nltk_data]     TEC\\AppData\\Roaming\\nltk_data...\n",
      "[nltk_data]   Package punkt is already up-to-date!\n",
      "[nltk_data] Downloading package wordnet to C:\\Users\\EYE\n",
      "[nltk_data]     TEC\\AppData\\Roaming\\nltk_data...\n",
      "[nltk_data]   Package wordnet is already up-to-date!\n",
      "[nltk_data] Downloading package averaged_perceptron_tagger to\n",
      "[nltk_data]     C:\\Users\\EYE TEC\\AppData\\Roaming\\nltk_data...\n",
      "[nltk_data]   Package averaged_perceptron_tagger is already up-to-\n",
      "[nltk_data]       date!\n"
     ]
    },
    {
     "data": {
      "text/plain": [
       "True"
      ]
     },
     "execution_count": 145,
     "metadata": {},
     "output_type": "execute_result"
    }
   ],
   "source": [
    "# Download NLTK resources\n",
    "#########\n",
    "#This resource includes the Punkt tokenizer models for tokenization.\n",
    "nltk.download('punkt')\n",
    "#WordNet is a lexical database for the English language\n",
    "nltk.download('wordnet')\n",
    "#This resource includes the pre-trained model for part-of-speech tagging using the averaged perceptron algorithm.\n",
    "nltk.download('averaged_perceptron_tagger')"
   ]
  },
  {
   "cell_type": "code",
   "execution_count": 146,
   "id": "f8816228",
   "metadata": {},
   "outputs": [],
   "source": [
    "df = pd.read_csv('bbc_news_dataset.csv')"
   ]
  },
  {
   "cell_type": "code",
   "execution_count": 147,
   "id": "5ffeedaa",
   "metadata": {},
   "outputs": [
    {
     "data": {
      "text/html": [
       "<div>\n",
       "<style scoped>\n",
       "    .dataframe tbody tr th:only-of-type {\n",
       "        vertical-align: middle;\n",
       "    }\n",
       "\n",
       "    .dataframe tbody tr th {\n",
       "        vertical-align: top;\n",
       "    }\n",
       "\n",
       "    .dataframe thead th {\n",
       "        text-align: right;\n",
       "    }\n",
       "</style>\n",
       "<table border=\"1\" class=\"dataframe\">\n",
       "  <thead>\n",
       "    <tr style=\"text-align: right;\">\n",
       "      <th></th>\n",
       "      <th>news</th>\n",
       "      <th>type</th>\n",
       "    </tr>\n",
       "  </thead>\n",
       "  <tbody>\n",
       "    <tr>\n",
       "      <th>0</th>\n",
       "      <td>China had role in Yukos split-up\\n \\n China le...</td>\n",
       "      <td>business</td>\n",
       "    </tr>\n",
       "    <tr>\n",
       "      <th>1</th>\n",
       "      <td>Oil rebounds from weather effect\\n \\n Oil pric...</td>\n",
       "      <td>business</td>\n",
       "    </tr>\n",
       "    <tr>\n",
       "      <th>2</th>\n",
       "      <td>Indonesia 'declines debt freeze'\\n \\n Indonesi...</td>\n",
       "      <td>business</td>\n",
       "    </tr>\n",
       "    <tr>\n",
       "      <th>3</th>\n",
       "      <td>$1m payoff for former Shell boss\\n \\n Shell is...</td>\n",
       "      <td>business</td>\n",
       "    </tr>\n",
       "    <tr>\n",
       "      <th>4</th>\n",
       "      <td>US bank in $515m SEC settlement\\n \\n Five Bank...</td>\n",
       "      <td>business</td>\n",
       "    </tr>\n",
       "  </tbody>\n",
       "</table>\n",
       "</div>"
      ],
      "text/plain": [
       "                                                news      type\n",
       "0  China had role in Yukos split-up\\n \\n China le...  business\n",
       "1  Oil rebounds from weather effect\\n \\n Oil pric...  business\n",
       "2  Indonesia 'declines debt freeze'\\n \\n Indonesi...  business\n",
       "3  $1m payoff for former Shell boss\\n \\n Shell is...  business\n",
       "4  US bank in $515m SEC settlement\\n \\n Five Bank...  business"
      ]
     },
     "execution_count": 147,
     "metadata": {},
     "output_type": "execute_result"
    }
   ],
   "source": [
    "df.head() "
   ]
  },
  {
   "cell_type": "code",
   "execution_count": 128,
   "id": "ef13e9f2",
   "metadata": {},
   "outputs": [],
   "source": [
    "inputs = df['news']\n",
    "labels = df['type']"
   ]
  },
  {
   "cell_type": "code",
   "execution_count": 129,
   "id": "bfe28564",
   "metadata": {},
   "outputs": [
    {
     "data": {
      "text/plain": [
       "<AxesSubplot:>"
      ]
     },
     "execution_count": 129,
     "metadata": {},
     "output_type": "execute_result"
    },
    {
     "data": {
      "image/png": "[encoded data removed]",
      "text/plain": [
       "<Figure size 720x360 with 1 Axes>"
      ]
     },
     "metadata": {
      "needs_background": "light"
     },
     "output_type": "display_data"
    }
   ],
   "source": [
    "labels.hist(figsize = (10,5))\n",
    "#to see wheather we have imbalnced classes.This is any class is over or underrepresented."
   ]
  },
  {
   "cell_type": "code",
   "execution_count": 148,
   "id": "91337cb0",
   "metadata": {},
   "outputs": [],
   "source": [
    "input_train, input_test, Ytrain , Ytest = train_test_split(inputs , labels , test_size=0.2, random_state=42)"
   ]
  },
  {
   "cell_type": "code",
   "execution_count": 149,
   "id": "15952855",
   "metadata": {},
   "outputs": [],
   "source": [
    "vectorizer = CountVectorizer()"
   ]
  },
  {
   "cell_type": "code",
   "execution_count": 150,
   "id": "9a178500",
   "metadata": {},
   "outputs": [],
   "source": [
    "Xtrain = vectorizer.fit_transform(input_train)\n",
    "Xtest = vectorizer.transform(input_test)"
   ]
  },
  {
   "cell_type": "code",
   "execution_count": 151,
   "id": "68ed5e3e",
   "metadata": {},
   "outputs": [
    {
     "data": {
      "text/plain": [
       "<1780x26856 sparse matrix of type '<class 'numpy.int64'>'\n",
       "\twith 359764 stored elements in Compressed Sparse Row format>"
      ]
     },
     "execution_count": 151,
     "metadata": {},
     "output_type": "execute_result"
    }
   ],
   "source": [
    "Xtrain"
   ]
  },
  {
   "cell_type": "code",
   "execution_count": 152,
   "id": "286e328b",
   "metadata": {},
   "outputs": [
    {
     "data": {
      "text/plain": [
       "359764"
      ]
     },
     "execution_count": 152,
     "metadata": {},
     "output_type": "execute_result"
    }
   ],
   "source": [
    "(Xtrain !=0).sum()"
   ]
  },
  {
   "cell_type": "code",
   "execution_count": 153,
   "id": "728fc2c1",
   "metadata": {},
   "outputs": [
    {
     "data": {
      "text/plain": [
       "0.007525864117574212"
      ]
     },
     "execution_count": 153,
     "metadata": {},
     "output_type": "execute_result"
    }
   ],
   "source": [
    "#computer the percentage of values which are non-zero\n",
    "(Xtrain !=0).sum() / np.prod(Xtrain.shape)"
   ]
  },
  {
   "cell_type": "code",
   "execution_count": 155,
   "id": "3c490a5a",
   "metadata": {},
   "outputs": [
    {
     "name": "stdout",
     "output_type": "stream",
     "text": [
      "train score:  0.9932584269662922\n",
      "test score:  0.9640449438202248\n"
     ]
    }
   ],
   "source": [
    "model = MultinomialNB()\n",
    "model.fit(Xtrain,Ytrain)\n",
    "print(\"train score: \",model.score(Xtrain,Ytrain))\n",
    "print(\"test score: \" ,model.score(Xtest,Ytest))"
   ]
  },
  {
   "cell_type": "markdown",
   "id": "2269d22d",
   "metadata": {},
   "source": [
    "# Count Vectorizer - character based tokenization"
   ]
  },
  {
   "cell_type": "code",
   "execution_count": 157,
   "id": "89792ebe",
   "metadata": {},
   "outputs": [],
   "source": [
    "vectorizer = CountVectorizer(analyzer=\"char\")\n",
    "\n",
    "Xtrain = vectorizer.fit_transform(input_train)\n",
    "Xtest = vectorizer.transform(input_test)"
   ]
  },
  {
   "cell_type": "code",
   "execution_count": 158,
   "id": "66c9bc6d",
   "metadata": {},
   "outputs": [
    {
     "data": {
      "text/plain": [
       "<1780x63 sparse matrix of type '<class 'numpy.int64'>'\n",
       "\twith 71310 stored elements in Compressed Sparse Row format>"
      ]
     },
     "execution_count": 158,
     "metadata": {},
     "output_type": "execute_result"
    }
   ],
   "source": [
    "Xtrain"
   ]
  },
  {
   "cell_type": "code",
   "execution_count": 159,
   "id": "a4983ca5",
   "metadata": {},
   "outputs": [
    {
     "data": {
      "text/plain": [
       "0.6359015516318887"
      ]
     },
     "execution_count": 159,
     "metadata": {},
     "output_type": "execute_result"
    }
   ],
   "source": [
    "(Xtrain !=0).sum() / np.prod(Xtrain.shape)"
   ]
  },
  {
   "cell_type": "code",
   "execution_count": 160,
   "id": "0b3b5198",
   "metadata": {},
   "outputs": [
    {
     "name": "stdout",
     "output_type": "stream",
     "text": [
      "train score:  0.6640449438202247\n",
      "test score:  0.6292134831460674\n"
     ]
    }
   ],
   "source": [
    "model = MultinomialNB()\n",
    "model.fit(Xtrain,Ytrain)\n",
    "print(\"train score: \",model.score(Xtrain,Ytrain))\n",
    "print(\"test score: \" ,model.score(Xtest,Ytest))"
   ]
  },
  {
   "cell_type": "markdown",
   "id": "f8f4bc03",
   "metadata": {},
   "source": [
    "# Count Vectorizer - with stopwords"
   ]
  },
  {
   "cell_type": "code",
   "execution_count": 161,
   "id": "3f5ded95",
   "metadata": {},
   "outputs": [
    {
     "name": "stdout",
     "output_type": "stream",
     "text": [
      "Train score: 0.9938202247191011\n",
      "Test score: 0.9640449438202248\n"
     ]
    }
   ],
   "source": [
    "#with stopwords\n",
    "vectorizer = CountVectorizer(stop_words='english')\n",
    "Xtrain = vectorizer.fit_transform(input_train)\n",
    "Xtest = vectorizer.transform(input_test)\n",
    "model = MultinomialNB()\n",
    "model.fit(Xtrain, Ytrain)\n",
    "print(\"Train score:\", model.score(Xtrain, Ytrain))\n",
    "print(\"Test score:\", model.score(Xtest, Ytest))"
   ]
  },
  {
   "cell_type": "code",
   "execution_count": 162,
   "id": "1d7f26e0",
   "metadata": {},
   "outputs": [
    {
     "data": {
      "text/plain": [
       "<1780x26563 sparse matrix of type '<class 'numpy.int64'>'\n",
       "\twith 257896 stored elements in Compressed Sparse Row format>"
      ]
     },
     "execution_count": 162,
     "metadata": {},
     "output_type": "execute_result"
    }
   ],
   "source": [
    "Xtrain"
   ]
  },
  {
   "cell_type": "code",
   "execution_count": 163,
   "id": "43a0e929",
   "metadata": {},
   "outputs": [
    {
     "data": {
      "text/plain": [
       "0.005454406251493693"
      ]
     },
     "execution_count": 163,
     "metadata": {},
     "output_type": "execute_result"
    }
   ],
   "source": [
    "(Xtrain !=0).sum() / np.prod(Xtrain.shape)"
   ]
  },
  {
   "cell_type": "markdown",
   "id": "7f63f0c7",
   "metadata": {},
   "source": [
    "# Count Vectorizer - with stopwords and character based tokenization"
   ]
  },
  {
   "cell_type": "code",
   "execution_count": 164,
   "id": "04951da8",
   "metadata": {},
   "outputs": [
    {
     "name": "stdout",
     "output_type": "stream",
     "text": [
      "Train score: 0.6640449438202247\n",
      "Test score: 0.6292134831460674\n"
     ]
    }
   ],
   "source": [
    "vectorizer = CountVectorizer(stop_words='english' , analyzer='char')\n",
    "Xtrain = vectorizer.fit_transform(input_train)\n",
    "Xtest = vectorizer.transform(input_test)\n",
    "model = MultinomialNB()\n",
    "model.fit(Xtrain, Ytrain)\n",
    "print(\"Train score:\", model.score(Xtrain, Ytrain))\n",
    "print(\"Test score:\", model.score(Xtest, Ytest))"
   ]
  },
  {
   "cell_type": "code",
   "execution_count": 165,
   "id": "aabbd28c",
   "metadata": {},
   "outputs": [
    {
     "data": {
      "text/plain": [
       "<1780x63 sparse matrix of type '<class 'numpy.int64'>'\n",
       "\twith 71310 stored elements in Compressed Sparse Row format>"
      ]
     },
     "execution_count": 165,
     "metadata": {},
     "output_type": "execute_result"
    }
   ],
   "source": [
    "Xtrain"
   ]
  },
  {
   "cell_type": "code",
   "execution_count": 166,
   "id": "956f580e",
   "metadata": {},
   "outputs": [
    {
     "data": {
      "text/plain": [
       "0.6359015516318887"
      ]
     },
     "execution_count": 166,
     "metadata": {},
     "output_type": "execute_result"
    }
   ],
   "source": [
    "(Xtrain !=0).sum() / np.prod(Xtrain.shape)"
   ]
  },
  {
   "cell_type": "markdown",
   "id": "58895860",
   "metadata": {},
   "source": [
    "# Count Vectorizer - with Lemmanization"
   ]
  },
  {
   "cell_type": "code",
   "execution_count": 167,
   "id": "1017e7f8",
   "metadata": {},
   "outputs": [],
   "source": [
    "#using Lemmanization\n",
    "\n",
    "def get_wordnet_pos(treebank_tag):\n",
    "    if treebank_tag.startswith('N'):\n",
    "        return wordnet.NOUN\n",
    "    elif treebank_tag.startswith('V'):\n",
    "        return wordnet.VERB\n",
    "    elif treebank_tag.startswith('R'):\n",
    "        return wordnet.ADV\n",
    "    elif treebank_tag.startswith('J'):\n",
    "        return wordnet.ADJ\n",
    "    else:\n",
    "        return wordnet.NOUN  "
   ]
  },
  {
   "cell_type": "code",
   "execution_count": 168,
   "id": "afac354a",
   "metadata": {},
   "outputs": [],
   "source": [
    "class LemmaTokenizer:\n",
    "    def __init__(self):\n",
    "        self.wnl = WordNetLemmatizer()\n",
    "    def __call__(self, doc):\n",
    "        tokens = word_tokenize(doc)\n",
    "        word_and_tags = nltk.pos_tag(tokens)\n",
    "        return [self.wnl.lemmatize(word, pos=get_wordnet_pos(tag)) for word, tag in word_and_tags]"
   ]
  },
  {
   "cell_type": "code",
   "execution_count": 169,
   "id": "e2cddbba",
   "metadata": {},
   "outputs": [
    {
     "name": "stdout",
     "output_type": "stream",
     "text": [
      "Train score: 0.9932584269662922\n",
      "Test score: 0.9595505617977528\n"
     ]
    }
   ],
   "source": [
    "#with stopwords\n",
    "vectorizer = CountVectorizer(tokenizer=LemmaTokenizer())\n",
    "Xtrain = vectorizer.fit_transform(input_train)\n",
    "Xtest = vectorizer.transform(input_test)\n",
    "model = MultinomialNB()\n",
    "model.fit(Xtrain, Ytrain)\n",
    "print(\"Train score:\", model.score(Xtrain, Ytrain))\n",
    "print(\"Test score:\", model.score(Xtest, Ytest))"
   ]
  },
  {
   "cell_type": "code",
   "execution_count": 170,
   "id": "4d2ce8b7",
   "metadata": {},
   "outputs": [
    {
     "data": {
      "text/plain": [
       "<1780x26594 sparse matrix of type '<class 'numpy.int64'>'\n",
       "\twith 349550 stored elements in Compressed Sparse Row format>"
      ]
     },
     "execution_count": 170,
     "metadata": {},
     "output_type": "execute_result"
    }
   ],
   "source": [
    "Xtrain"
   ]
  },
  {
   "cell_type": "code",
   "execution_count": 171,
   "id": "eaaf510f",
   "metadata": {},
   "outputs": [
    {
     "data": {
      "text/plain": [
       "0.007384237214950065"
      ]
     },
     "execution_count": 171,
     "metadata": {},
     "output_type": "execute_result"
    }
   ],
   "source": [
    "(Xtrain !=0).sum() / np.prod(Xtrain.shape)"
   ]
  },
  {
   "cell_type": "markdown",
   "id": "02a00153",
   "metadata": {},
   "source": [
    "# Count Vectorizer - with StemTokenizer"
   ]
  },
  {
   "cell_type": "code",
   "execution_count": 176,
   "id": "5ab4e183",
   "metadata": {},
   "outputs": [],
   "source": [
    "class StemTokenizer:\n",
    "    def __init__(self):\n",
    "        self.porter = PorterStemmer()\n",
    "    \n",
    "    def __call__(self, doc):\n",
    "        tokens = word_tokenize(doc)\n",
    "        return [self.porter.stem(t) for t in tokens]"
   ]
  },
  {
   "cell_type": "code",
   "execution_count": 177,
   "id": "2e40b990",
   "metadata": {},
   "outputs": [
    {
     "name": "stdout",
     "output_type": "stream",
     "text": [
      "Train score: 0.9915730337078652\n",
      "Test score: 0.9617977528089887\n"
     ]
    }
   ],
   "source": [
    "vectorizer = CountVectorizer(tokenizer=StemTokenizer())\n",
    "Xtrain = vectorizer.fit_transform(input_train)\n",
    "Xtest = vectorizer.transform(input_test)\n",
    "model = MultinomialNB()\n",
    "model.fit(Xtrain, Ytrain)\n",
    "print(\"Train score:\", model.score(Xtrain, Ytrain))\n",
    "print(\"Test score:\", model.score(Xtest, Ytest))"
   ]
  },
  {
   "cell_type": "code",
   "execution_count": 174,
   "id": "6b47df04",
   "metadata": {},
   "outputs": [
    {
     "data": {
      "text/plain": [
       "<1780x23307 sparse matrix of type '<class 'numpy.int64'>'\n",
       "\twith 357390 stored elements in Compressed Sparse Row format>"
      ]
     },
     "execution_count": 174,
     "metadata": {},
     "output_type": "execute_result"
    }
   ],
   "source": [
    "Xtrain"
   ]
  },
  {
   "cell_type": "code",
   "execution_count": 175,
   "id": "be83dee2",
   "metadata": {},
   "outputs": [
    {
     "data": {
      "text/plain": [
       "0.008614617877736496"
      ]
     },
     "execution_count": 175,
     "metadata": {},
     "output_type": "execute_result"
    }
   ],
   "source": [
    "(Xtrain !=0).sum() / np.prod(Xtrain.shape)"
   ]
  },
  {
   "cell_type": "markdown",
   "id": "da82cbc9",
   "metadata": {},
   "source": [
    "# Count Vectorizer - with simple word split tokenizer"
   ]
  },
  {
   "cell_type": "code",
   "execution_count": 181,
   "id": "f436d767",
   "metadata": {},
   "outputs": [],
   "source": [
    "def simple_tokenizer(s):\n",
    "    return s.split()"
   ]
  },
  {
   "cell_type": "code",
   "execution_count": 182,
   "id": "c68cc105",
   "metadata": {},
   "outputs": [
    {
     "name": "stdout",
     "output_type": "stream",
     "text": [
      "Train score: 0.9960674157303371\n",
      "Test score: 0.9550561797752809\n"
     ]
    }
   ],
   "source": [
    "vectorizer = CountVectorizer(tokenizer=simple_tokenizer)\n",
    "Xtrain = vectorizer.fit_transform(input_train)\n",
    "Xtest = vectorizer.transform(input_test)\n",
    "model = MultinomialNB()\n",
    "model.fit(Xtrain, Ytrain)\n",
    "print(\"Train score:\", model.score(Xtrain, Ytrain))\n",
    "print(\"Test score:\", model.score(Xtest, Ytest))"
   ]
  },
  {
   "cell_type": "code",
   "execution_count": 184,
   "id": "722136a0",
   "metadata": {},
   "outputs": [
    {
     "data": {
      "text/plain": [
       "<1780x53696 sparse matrix of type '<class 'numpy.int64'>'\n",
       "\twith 393654 stored elements in Compressed Sparse Row format>"
      ]
     },
     "execution_count": 184,
     "metadata": {},
     "output_type": "execute_result"
    }
   ],
   "source": [
    "Xtrain"
   ]
  },
  {
   "cell_type": "code",
   "execution_count": 185,
   "id": "ad8264ec",
   "metadata": {},
   "outputs": [
    {
     "data": {
      "text/plain": [
       "0.004118629554981184"
      ]
     },
     "execution_count": 185,
     "metadata": {},
     "output_type": "execute_result"
    }
   ],
   "source": [
    "(Xtrain !=0).sum() / np.prod(Xtrain.shape)"
   ]
  },
  {
   "cell_type": "code",
   "execution_count": 183,
   "id": "033c8a4e",
   "metadata": {},
   "outputs": [],
   "source": [
    "# We've learn that it's not all clear which method will perform best before we try\n",
    "\n",
    "# What is the vector dimensionality of each case? Xtrain\n",
    "# Compare and consider why they are laeger/ smaller"
   ]
  }
 ],
 "metadata": {
  "kernelspec": {
   "display_name": "Python 3",
   "language": "python",
   "name": "python3"
  },
  "language_info": {
   "codemirror_mode": {
    "name": "ipython",
    "version": 3
   },
   "file_extension": ".py",
   "mimetype": "text/x-python",
   "name": "python",
   "nbconvert_exporter": "python",
   "pygments_lexer": "ipython3",
   "version": "3.8.8"
  }
 },
 "nbformat": 4,
 "nbformat_minor": 5
}
